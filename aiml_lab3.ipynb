{
  "nbformat": 4,
  "nbformat_minor": 0,
  "metadata": {
    "colab": {
      "provenance": [],
      "authorship_tag": "ABX9TyOlz3+dvSmTQ235tivvWA3I",
      "include_colab_link": true
    },
    "kernelspec": {
      "name": "python3",
      "display_name": "Python 3"
    },
    "language_info": {
      "name": "python"
    }
  },
  "cells": [
    {
      "cell_type": "markdown",
      "metadata": {
        "id": "view-in-github",
        "colab_type": "text"
      },
      "source": [
        "<a href=\"https://colab.research.google.com/github/2303A52376/AIML.2376/blob/main/aiml_lab3.ipynb\" target=\"_parent\"><img src=\"https://colab.research.google.com/assets/colab-badge.svg\" alt=\"Open In Colab\"/></a>"
      ]
    },
    {
      "cell_type": "code",
      "source": [
        "#part 1"
      ],
      "metadata": {
        "id": "H995awr-Hh86"
      },
      "execution_count": null,
      "outputs": []
    },
    {
      "cell_type": "code",
      "source": [
        "#declaration of gaming class"
      ],
      "metadata": {
        "id": "I3oXHJDm6eqi"
      },
      "execution_count": null,
      "outputs": []
    },
    {
      "cell_type": "code",
      "execution_count": 1,
      "metadata": {
        "id": "CZEV5gn82gEH"
      },
      "outputs": [],
      "source": [
        "from collections import namedtuple, Counter, defaultdict\n",
        "import random\n",
        "import math\n",
        "import functools\n",
        "cache=functools.lru_cache(10**6)"
      ]
    },
    {
      "cell_type": "code",
      "source": [
        "class Game:\n",
        "  def actions(self, state ):\n",
        "   raise NotImplementedError\n",
        "\n",
        "  def result(self, state , move ):\n",
        "     raise NotImplementedError\n",
        "\n",
        "\n",
        "  def is_terminal (self, state ):\n",
        "      return not self.actions(state)\n",
        "\n",
        "\n",
        "  def utility(self, state , player ):\n",
        "     raise NotImplementedError\n",
        "\n"
      ],
      "metadata": {
        "id": "8PfzdLBY4va5"
      },
      "execution_count": 2,
      "outputs": []
    },
    {
      "cell_type": "code",
      "source": [
        "def play_game (game ,strategies : dict,verbose=False ):\n",
        "  state=game.intial\n",
        "  while not game.is_terminal(state):\n",
        "    player=state.to_move\n",
        "    move=strategies[player](game,state)\n",
        "    state=game.result(state,move)\n",
        "    if verbose:\n",
        "      print('Player',player,'move:',move)\n",
        "      print(state)\n",
        "  return state\n",
        "\n",
        "\n",
        "\n",
        "\n",
        "\n",
        "\n",
        "\n",
        "\n",
        "\n",
        "\n",
        "\n",
        "\n",
        "\n",
        "\n",
        "\n",
        "\n",
        "\n",
        "\n",
        "\n",
        "\n",
        "\n",
        "\n",
        "\n",
        "\n",
        "\n",
        "\n",
        "\n",
        "\n",
        "\n",
        "\n",
        "\n",
        "\n",
        "\n",
        "\n",
        "\n"
      ],
      "metadata": {
        "id": "Ki65J6Ag55Tv"
      },
      "execution_count": null,
      "outputs": []
    },
    {
      "cell_type": "code",
      "source": [
        "#part 2\n",
        "#min max"
      ],
      "metadata": {
        "id": "X_efJcOY8QZt"
      },
      "execution_count": null,
      "outputs": []
    },
    {
      "cell_type": "code",
      "source": [
        "def minimax_search(game,state):\n",
        "  player=state.to_move\n",
        "def max_value(state):\n",
        "  if game.is_terminal(state):\n",
        "    return game.utility(state,player),None\n",
        "  v,move=-infinity,None\n",
        "  for a in game.actions(state):\n",
        "    v2,_=min_value(game.result(state,a))\n",
        "    if v2>v:\n",
        "      v,move=v2,a\n",
        "  return v,move\n",
        "\n",
        "def min_value(state):\n",
        "  if game.is_terminal(state):\n",
        "    return game.utility(state,player),None\n",
        "  v,move=+infinity,None\n",
        "  for a in game.actions(state):\n",
        "    v2,_=max_value(game.result(state,a))\n",
        "    if v2<v:\n",
        "      v,move=v2,a\n",
        "  return v,move\n",
        "  return max_value(state)\n",
        "  infinity=math.inf\n",
        "\n",
        "\n"
      ],
      "metadata": {
        "id": "nPlJCnlV8XqW"
      },
      "execution_count": null,
      "outputs": []
    },
    {
      "cell_type": "code",
      "source": [
        "#alphabeta search"
      ],
      "metadata": {
        "id": "LrL3UmXxA_cV"
      },
      "execution_count": null,
      "outputs": []
    },
    {
      "cell_type": "code",
      "source": [
        "def alphabeta_search(game, state):\n",
        "    player = state.to_move\n",
        "def max_value(state,aplha,beta):\n",
        "  if game.is_terminal(state):\n",
        "    return game.utility(state,player),None\n",
        "  v,move=-infinity,None\n",
        "  for a in game.actions(state):\n",
        "    v2,_=min_value(game.result(state,a),aplha,beta)\n",
        "    if v2>v:\n",
        "      v,move=v2,a\n",
        "      aplha=max(aplha,v)\n",
        "    if v>=beta:\n",
        "      return v,move\n",
        "  return v,move\n",
        "\n",
        "def min_value(state,aplha,beta):\n",
        "  if game.is_terminal(state):\n",
        "    return game.utility(state,player),None\n",
        "  v,move=+infinity,None\n",
        "  for a in game.actions(state):\n",
        "    v2,_=max_value(game.result(state,a),aplha,beta)\n",
        "    if v2<v:\n",
        "      v,move=v2,a\n",
        "      beta=min(beta,v)\n",
        "      if v<=aplha:\n",
        "        return v,move\n",
        "  return v,move\n",
        "\n",
        "  return max_value(state,-infinity,+infinity)\n",
        "\n",
        "  infinity=math.inf"
      ],
      "metadata": {
        "id": "sN3_BJKpArCX"
      },
      "execution_count": null,
      "outputs": []
    },
    {
      "cell_type": "code",
      "source": [
        "#part 3"
      ],
      "metadata": {
        "id": "bMUDcyaZ1AxW"
      },
      "execution_count": null,
      "outputs": []
    },
    {
      "cell_type": "code",
      "source": [
        "class TicTacToe(Game):\n",
        "  def __init__(self, height=3, width=3, k=3):\n",
        "    self.k=k\n",
        "    self.squares={(x,y)for x in range (width) for  y  in range (height)}\n",
        "    self.initial=Board(height=height,width=width,to_move='x',utility=0)\n",
        "    def actions(self,board):\n",
        "      return self.squares-set(board)\n",
        "    def result(self,board,square):\n",
        "      player=board.to_move\n",
        "      board=board.new({square:player},to_move='o'if player=='x'else 'x')\n",
        "      win=k_in_row(board,player,square,self.k)\n",
        "      board.utility=(0 if not win else +1 if player=='x' else -1)\n",
        "      return board\n",
        "    def utility(self,board,player):\n",
        "      return board.utility if player=='x' else -board.utility\n",
        "    def is_terminal(self,board):\n",
        "      return board.utility!=0 or len(self.squares) == len(board)\n",
        "    def display(self,board,): print(board)\n",
        "    def k_in_row(board,player,square,k):\n",
        "      def in_row(x,y,dx,dy):\n",
        "        return 0 if board[x,y]!=player else 1+in_row(x+dx,y+dy,dx,dy)\n",
        "        return any(in_row(*square,dx,dy)+in_row(*square,-dx,-dy)-1>=k\n",
        "                   for (dx,dy) in ((0,1),(1,0),(1,1),(1,-1)))\n",
        "\n",
        "\n",
        "\n",
        "\n",
        "\n",
        "\n",
        "\n",
        "\n",
        "\n",
        "\n",
        "\n",
        "\n",
        "\n",
        "\n",
        "\n",
        "\n",
        "\n",
        "\n",
        "\n",
        "\n",
        "\n",
        "\n",
        "\n",
        "\n",
        "\n",
        "\n",
        "\n",
        "\n",
        "\n",
        "\n",
        "\n",
        "\n",
        "\n",
        "\n",
        "\n",
        "\n"
      ],
      "metadata": {
        "id": "T-umK6vv8DFb"
      },
      "execution_count": null,
      "outputs": []
    },
    {
      "cell_type": "code",
      "source": [
        "class Board(defaultdict):\n",
        "  def __init__(self,width=3,height=3,to_move=None, **kwds):\n",
        "    self.__dict__.update(width=width,height=height,to_move=to_move,**kwds)"
      ],
      "metadata": {
        "id": "9Tmuf_YaEPnv"
      },
      "execution_count": null,
      "outputs": []
    },
    {
      "cell_type": "code",
      "source": [
        "def new(self, changes: dict, **kwds) -> 'Board':\n",
        "  board=Board(width=self.width,height=self.height,to_move=self.to_move,**kwds)\n",
        "  board.update(self)\n",
        "  board.update(changes)\n",
        "  return board"
      ],
      "metadata": {
        "id": "aYtN8AnSEbt-"
      },
      "execution_count": null,
      "outputs": []
    },
    {
      "cell_type": "code",
      "source": [
        "def _missing_(self,key):\n",
        "  x,y=loc\n",
        "  if 0 <=x < self.width and 0 <=y < self.height:\n",
        "    return self.empty\n",
        "  else:\n",
        "    return self.off"
      ],
      "metadata": {
        "id": "_sRZTTWwEkRF"
      },
      "execution_count": null,
      "outputs": []
    },
    {
      "cell_type": "code",
      "source": [
        "def __hash__(self):\n",
        "          return hash(tuple(sorted(self.items()))) + hash(self.to_move)\n"
      ],
      "metadata": {
        "id": "PJIhcvpNE8D9"
      },
      "execution_count": null,
      "outputs": []
    },
    {
      "cell_type": "code",
      "source": [
        "def __repr__(self):\n",
        "          def row(y): return ' '.join(self[x, y] for x in range(self.width))\n",
        "          return '\\n'.join(map(row, range(self.height))) +  '\\n'"
      ],
      "metadata": {
        "id": "twDUF4W-FDTk"
      },
      "execution_count": null,
      "outputs": []
    },
    {
      "cell_type": "code",
      "source": [
        "def random_player(game, state): return random.choice(list(game.actions(state)))\n",
        "\n",
        "def player(search_algorithm):\n",
        "  return lambda game, state: search_algorithm(game, state)[1]\n"
      ],
      "metadata": {
        "id": "810kGlyHFN7z"
      },
      "execution_count": null,
      "outputs": []
    }
  ]
}